{
 "cells": [
  {
   "cell_type": "code",
   "execution_count": 1,
   "id": "4b7ee739",
   "metadata": {},
   "outputs": [
    {
     "data": {
      "image/png": "[encoded data removed]",
      "text/plain": [
       "<Figure size 432x288 with 1 Axes>"
      ]
     },
     "metadata": {
      "needs_background": "light"
     },
     "output_type": "display_data"
    }
   ],
   "source": [
    "#import the classes we made\n",
    "import LinkedList\n",
    "import dataRead\n",
    "#import the classes that plot\n",
    "import numpy as np\n",
    "import matplotlib.pyplot as plt\n",
    "import math\n",
    "\n",
    "#creates linked list \n",
    "valueList = LinkedList.LinkedList()\n",
    "valueList = dataRead.readIn()\n",
    "\n",
    "labels = ['105-120', '120-135', '135-150']\n",
    "\n",
    "near = [0, 0, 0]\n",
    "medium = [0, 0, 0]\n",
    "far = [0, 0, 0]\n",
    "\n",
    "#calculate the number of each near and far speeds\n",
    "for Node in valueList:\n",
    "\tif(Node.setting == 'Near'):\n",
    "\t\tnear[0] += Node.speed1\n",
    "\t\tnear[1] += Node.speed2\n",
    "\t\tnear[2] += Node.speed3\n",
    "\telif(Node.setting == 'Medium'):\n",
    "\t\tmedium[0] += Node.speed1\n",
    "\t\tmedium[1] += Node.speed2\n",
    "\t\tmedium[2] += Node.speed3\n",
    "\telif(Node.setting == 'Far'):\n",
    "\t\tfar[0] += Node.speed1\n",
    "\t\tfar[1] += Node.speed2\n",
    "\t\tfar[2] += Node.speed3\n",
    "\n",
    "for i in range(3):\n",
    "\ttotalSpeed = near[i] + medium[i] + far[i]\n",
    "\n",
    "\tnear[i] = near[i] / totalSpeed * 100\n",
    "\tmedium[i] = medium[i] / totalSpeed * 100\n",
    "\tfar[i] = far[i] / totalSpeed * 100\n",
    "\n",
    "x = np.arange(len(labels))  # the label locations\n",
    "width = 0.7  # the width of the bars\n",
    "\n",
    "fig, ax = plt.subplots()\n",
    "rects1 = ax.bar(x - width/3, near, width/3, label='Near')\n",
    "rects2 = ax.bar(x , medium, width/3, label='Medium')\n",
    "rects3 = ax.bar(x + width/3, far, width/3, label='Far')\n",
    "\n",
    "# Add some text for labels, title and custom x-axis tick labels, etc.\n",
    "ax.set_ylabel('Percentage of Cars with specified Setting')\n",
    "ax.set_xlabel('Car velocities in km/hr')\n",
    "ax.set_title('Gap Setting for Cars reaching Varying Velocities')\n",
    "ax.set_xticks(x)\n",
    "ax.set_xticklabels(labels)\n",
    "ax.legend()\n",
    "\n",
    "\n",
    "def autolabel(rects):\n",
    "    \"\"\"Attach a text label above each bar in *rects*, displaying its height.\"\"\"\n",
    "    for rect in rects:\n",
    "        height = math.trunc(rect.get_height())\n",
    "        ax.annotate('{}'.format(height),\n",
    "                    xy=(rect.get_x() + rect.get_width() / 2, height),\n",
    "                    xytext=(0, 3),  # 3 points vertical offset\n",
    "                    textcoords=\"offset points\",\n",
    "                    ha='center', va='bottom')\n",
    "\n",
    "\n",
    "autolabel(rects1)\n",
    "autolabel(rects2)\n",
    "autolabel(rects3)\n",
    "\n",
    "fig.tight_layout()\n",
    "\n",
    "plt.show()\n"
   ]
  }
 ],
 "metadata": {
  "kernelspec": {
   "display_name": "Python 3 (ipykernel)",
   "language": "python",
   "name": "python3"
  },
  "language_info": {
   "codemirror_mode": {
    "name": "ipython",
    "version": 3
   },
   "file_extension": ".py",
   "mimetype": "text/x-python",
   "name": "python",
   "nbconvert_exporter": "python",
   "pygments_lexer": "ipython3",
   "version": "3.9.12"
  }
 },
 "nbformat": 4,
 "nbformat_minor": 5
}
